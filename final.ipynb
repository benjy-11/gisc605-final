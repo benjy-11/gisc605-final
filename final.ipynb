{
  "nbformat": 4,
  "nbformat_minor": 0,
  "metadata": {
    "colab": {
      "provenance": []
    },
    "kernelspec": {
      "name": "python3",
      "display_name": "Python 3"
    },
    "language_info": {
      "name": "python"
    }
  },
  "cells": [
    {
      "cell_type": "code",
      "source": [
        "print(\"Howdy_planet!\")"
      ],
      "metadata": {
        "colab": {
          "base_uri": "https://localhost:8080/"
        },
        "id": "msqNXbGySiP0",
        "outputId": "aea1b9b9-f6e7-490c-899e-4ec36339f45e"
      },
      "execution_count": 5,
      "outputs": [
        {
          "output_type": "stream",
          "name": "stdout",
          "text": [
            "Howdy_planet!\n"
          ]
        }
      ]
    },
    {
      "cell_type": "code",
      "source": [
        "directions= [\"North\", \"South\", \"East\", \"West\"]\n",
        "type(directions)"
      ],
      "metadata": {
        "colab": {
          "base_uri": "https://localhost:8080/"
        },
        "id": "jCpZJwdzS9RP",
        "outputId": "a256bb87-3fef-47d2-9bca-66c7cee65924"
      },
      "execution_count": 11,
      "outputs": [
        {
          "output_type": "execute_result",
          "data": {
            "text/plain": [
              "list"
            ]
          },
          "metadata": {},
          "execution_count": 11
        }
      ]
    },
    {
      "cell_type": "code",
      "source": [
        "for cardinal in directions:\n",
        "  print(cardinal)"
      ],
      "metadata": {
        "colab": {
          "base_uri": "https://localhost:8080/"
        },
        "id": "zJwQ6rrhTTN4",
        "outputId": "ec8de084-7a8e-4f26-d7ef-7e59c98fa44c"
      },
      "execution_count": 12,
      "outputs": [
        {
          "output_type": "stream",
          "name": "stdout",
          "text": [
            "North\n",
            "South\n",
            "East\n",
            "West\n"
          ]
        }
      ]
    },
    {
      "cell_type": "code",
      "source": [],
      "metadata": {
        "id": "3ziz0xwLUTRB"
      },
      "execution_count": null,
      "outputs": []
    }
  ]
}